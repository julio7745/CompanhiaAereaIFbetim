{
  "cells": [
    {
      "cell_type": "markdown",
      "metadata": {
        "id": "taFqaTT9ZKjF"
      },
      "source": [
        "<a href=\"https://colab.research.google.com/github/ifmg-betim/2024.1_AUT.068_RNA/blob/main/TP01_introducao.ipynb\" target=\"_parent\"><img src=\"https://colab.research.google.com/assets/colab-badge.svg\" alt=\"Open In Colab\"/></a>"
      ]
    },
    {
      "cell_type": "markdown",
      "metadata": {
        "id": "N6gFNBMKZKjI"
      },
      "source": [
        "# TP01 - [`seu nome e (RA)`]\n",
        "\n",
        "Bem vindo! Neste trabalho prático você implementará funções básicas em Python.\n",
        "\n",
        "**Instruções:**\n",
        "- Usaremos a versão Python 3.\n",
        "- Evite sempre usar usar laços `for` e `while`, fazer contas no formato vetorial é sempre mais rápido.\n",
        "- Não apague os comentários que já existem nas células de código. Mas é claro que você pode adicionar outros comentários.\n",
        "\n",
        "**Objetivos**\n",
        "- Iniciar o uso do Jupyter Notebook / Google Colab, usando linguagem Python\n",
        "- Usar funções das principais bibliotecas, como numpy e matplotlib\n",
        "- Aprender a manipular variáveis básicas, vetores (`numpy array`) e escrever funções"
      ]
    },
    {
      "cell_type": "markdown",
      "metadata": {
        "id": "MA7SHg15ZKjJ"
      },
      "source": [
        "## O Jupyter notebook\n",
        "\n",
        "O Jupyter Notebook é um ambiente interativo de programação em uma página web. Nesse notebook você colocará o código entre os comentários `### SEU CÓDIGO COMEÇA AQUI ###` e `### FIM DO CÓDIGO ###`. Após escrever o código, você pode executar a célula com `Shift+Enter` ou no botão \"Run\" (com símbolo de \"play\") na barra de comandos acima.\n",
        "\n",
        "Em alguns trechos será especificado \"(≈ X linhas de código)\" nos comentários para que você tenha uma ideia sobre o tamanho do código a ser desenvolvido naquele trecho. Lembrando que é só uma estimativa, o seu código pode ficar maior ou menor do que o especificado.\n",
        "\n",
        "**Alguns atalhos úteis *no código*:**\n",
        "- `Ctrl+Enter`: executa a célula e mantém o cursor na mesma célula\n",
        "- `Shift+Enter`: executa a célula e move o cursor para a próxima célula\n",
        "- `Ctrl+/`: comenta a linha de código\n",
        "- `Shift+Tab`: quando o cursor estiver em uma função, mostra um HELP da função\n",
        "\n",
        "**Alguns atalhos úteis *na célula*:**\n",
        "- Cria nova célula `a`: acima, `b`: abaixo da céula selecionada\n",
        "- `d` (2x): deleta célula selecionada\n",
        "- `m`: define célula como texto (Markdown)\n",
        "- `y`: define célula como código (Python)\n",
        "- `l`: mostra numeração das linhas na célula de código\n",
        "- `c`: copiar, `v`: colar, `x`: recortar célula selecionada\n",
        "- `ctrl+shift+p`: mostra busca para todos comandos de célula\n",
        "\n",
        "## Primeiros passos\n",
        "Comece com um `print` de `\"Olá mundo\"` na célula abaixo."
      ]
    },
    {
      "cell_type": "code",
      "execution_count": null,
      "metadata": {
        "id": "FPD8qBq3ZKjK"
      },
      "outputs": [],
      "source": [
        "### SEU CÓDIGO COMEÇA AQUI ### (≈ 1 linha de código)\n",
        "None\n",
        "### FIM DO CÓDIGO ###"
      ]
    },
    {
      "cell_type": "markdown",
      "metadata": {
        "id": "w9rWOcroZKjL"
      },
      "source": [
        "**Saída esperada**:\n",
        "Olá mundo\n",
        "___"
      ]
    },
    {
      "cell_type": "markdown",
      "metadata": {
        "id": "Py8m1VimZKjL"
      },
      "source": [
        "A biblioteca NumPy é uma das mais importantes que usaremos. Cálculos matemáticos envolvendo funções, álgebra linear, números aleatórios devem ser procurados nessa biblioteca. Evite usar outras (e.g. math). Para começar, importe a biblioteca `numpy` com o alias `np`, usando o comando:\n",
        "\n",
        "`import numpy as np`\n",
        "\n",
        "Na mesma célula abaixo, teste a função seno `np.sin(x)` com entrada `x=30` (não precisa criar a variável `x`). Note que ao escrever o comando `np.sin(30)` na última linha de código da célula, o retorno da função é ecoado na saída, mostrada logo abaixo da célula. Isso é util às vezes para ver o retorno de uma função sem precisar usar o comando `print`. Se você não quiser que o valor seja ecoado na saída, basta colocar um `;` (ponto e vírgula) após o comando."
      ]
    },
    {
      "cell_type": "code",
      "execution_count": null,
      "metadata": {
        "id": "cPJ4eqrEZKjM"
      },
      "outputs": [],
      "source": [
        "### SEU CÓDIGO COMEÇA AQUI ### (≈ 2 linhas de código)\n",
        "None\n",
        "### FIM DO CÓDIGO ###"
      ]
    },
    {
      "cell_type": "markdown",
      "metadata": {
        "id": "SxPa-3B3ZKjN"
      },
      "source": [
        "**Saída esperada**:\n",
        "-0.9880316240928618\n",
        "\n",
        "Na célula abaixo, use as funções abaixo com os respectivos valores apresentados e mostre os resultados na saída. Lembre-se: todas essas funções já estão implementadas no NumPy (https://numpy.org/devdocs/reference/routines.math.html), não é necessário implementá-las manualmente.\n",
        "1. Exponencial (exp): $e^x$, com $x=3$\n",
        "1. Sinal (sign): $\\rm{sign}(x)$, com $x=-\\infty$ (note que o NumPy possui uma constante para simbolizar \"infinito\")\n",
        "1. Tangente hiperbólica: $\\tanh(x)$, com $x=0.3$\n",
        "1. Cosseno: $\\cos(x)$, com $x=21$\n",
        "\n"
      ]
    },
    {
      "cell_type": "code",
      "execution_count": null,
      "metadata": {
        "scrolled": true,
        "id": "Di-6fxXMZKjN"
      },
      "outputs": [],
      "source": [
        "### SEU CÓDIGO COMEÇA AQUI ### (≈ 4 linhas de código)\n",
        "None\n",
        "### FIM DO CÓDIGO ###"
      ]
    },
    {
      "cell_type": "markdown",
      "metadata": {
        "id": "VgC4KzDxZKjO"
      },
      "source": [
        "**Saída esperada**:\n",
        "\n",
        "\n",
        "`Exponencial (exp):  20.085536923187668`\n",
        "\n",
        "`Sinal (sign):  -1.0`\n",
        "\n",
        "`Tangente hiperbólica:  0.2913126124515909`\n",
        "\n",
        "`Cosseno:  -0.5477292602242684`\n",
        "___"
      ]
    },
    {
      "cell_type": "markdown",
      "metadata": {
        "id": "6Vz_EwL4ZKjO"
      },
      "source": [
        "## Plotando gráficos\n",
        "Faça um gráfico com uma função senoidal usando o Matplotlib (https://matplotlib.org/).\n",
        "1. importe a biblioteca `matplotlib.pyplot` com alias `plt`, com o comando `import matplotlib.pyplot as plt`\n",
        "1. crie um vetor $x$ com 20 valores linearmente espaçados (`np.linspace`) no intervalo $x\\in\\left\\{-\\pi,\\pi\\right\\}$\n",
        "1. crie um vetor $h$, em que seus elementos são $h^{(i)} = \\sin(x^{(i)})$, para cada $i$-ésima amostra\n",
        "1. mostre o gráfico da função com uma linha preta ligando os pontos e círculos vermelhos em cada ponto\n",
        "1. adicione rótulo aos eixos vertical e horizontal\n",
        "1. Adicione o título \"Função a ser aproximada\" na figura\n",
        "1. Antes do comando `plt.plot`, use `plt.figure(figsize=(8,3))` para ajustar o tamanho da figura em $8\\times 3$"
      ]
    },
    {
      "cell_type": "code",
      "execution_count": null,
      "metadata": {
        "id": "00vuzpCqZKjO"
      },
      "outputs": [],
      "source": [
        "### SEU CÓDIGO COMEÇA AQUI ### (≈ 11 linhas de código)\n",
        "None\n",
        "### FIM DO CÓDIGO ###"
      ]
    },
    {
      "cell_type": "markdown",
      "metadata": {
        "id": "mwggbpqoZKjO"
      },
      "source": [
        "**Saída esperada**\n",
        "\n",
        "![TP01_funcaoH.png](attachment:TP01_funcaoH.png)\n",
        "\n",
        "<mark>**ATENÇÃO:** todos os gráficos serão avaliados e devem incluir, necessariamente, os rótulos dos eixos vertical e horizontal corretamente.</mark>"
      ]
    },
    {
      "cell_type": "markdown",
      "metadata": {
        "id": "Knn5ee0EZKjP"
      },
      "source": [
        "## Criando Funções (função oráculo)\n",
        "Em vários problemas de Aprendizado de Máquina, presumimos que existe uma função que faz o mapeamento dos dados de entrada $x$ para a saída $y$, em que o objetivo da rede neural é estimar essa função $f(x)$. Para implementar problemas numéricos didáticos, é interessante escrevermos uma função \"oráculo\", que é a que conhece o mapeamento verdadeiro de $x$ para $y$. Em breve, faremos um problema de estimação de uma função $\\sin(x)$. Assim, escreva abaixo a função \"oráculo\" para este problema.\n",
        "\n",
        "1. Nome da função:\n",
        "    + `oraculo(x)`\n",
        "2. Entradas:\n",
        "    + $x$: variável de entrada de dimensão `x.shape=(N, 1)`, sendo `N>0`\n",
        "3. Saída:\n",
        "    + $y$: saída, calculada pela função $\\sin(x)$, com dimensão `y.shape=(N, 1)`\n",
        "\n",
        "Na célula abaixo, escreva a função e teste a função, gerando um gráfico senoidal para entradas no intervalo $[0,2\\pi]$. Use `plt.figure(figsize=(8,2))` para ajustar o tamanho da figura."
      ]
    },
    {
      "cell_type": "code",
      "execution_count": null,
      "metadata": {
        "id": "oSOC2Vu6ZKjP"
      },
      "outputs": [],
      "source": [
        "### SEU CÓDIGO COMEÇA AQUI ### (≈ 11 linhas de código)\n",
        "None\n",
        "### FIM DO CÓDIGO ###"
      ]
    },
    {
      "cell_type": "markdown",
      "metadata": {
        "id": "6Cjov52LZKjP"
      },
      "source": [
        "**Saída esperada**\n",
        "\n",
        "![image.png](attachment:image.png)\n",
        "\n",
        "___"
      ]
    },
    {
      "cell_type": "markdown",
      "metadata": {
        "id": "j_7N6DTNZKjP"
      },
      "source": [
        "Usando a função `oraculo` já criada, crie outra função `geraDados` que gere um conjunto de dados ruidosos de entrada e saída, amostrados aleatoriamente. Os dados gerados por esta função poderão ser usados para o aprendizado de uma rede neural.\n",
        "\n",
        "A função `geraDados()` deve retornar dois vetores $(x, y)$ de tamanho $m$ cada um, `x.shape=(m,1)` e `y.shape=(m,1)`. Os valores de `x` devem ser gerados aleatoriamente com distribuição uniforme $x\\sim\\mathcal{U}(0,2\\pi)$. O vetor de saída `y` deve ser calculado com a função `oraculo` e somado um ruído gaussiano $y = f(x) + \\epsilon$, em que $\\varepsilon\\sim\\mathcal{N}(0;\\sigma)$ representa o ruído nos dados de saída, gerado por uma distribuição normal de média nula e desvio padrão $\\sigma$.\n",
        "\n",
        "A função deve ter os seguintes parâmetros:\n",
        "1. Nome da função:\n",
        "    + `geraDados(m, sigma)`\n",
        "1. Entradas:\n",
        "    + `m`: número de amostras, em que o valor padrão é $m=10$ (caso esse valor não seja passado à função)\n",
        "    + `sigma`: desvio padrão do ruído nos dados de saída, em que $\\sigma=0$ caso este valor não seja passado à função\n",
        "1. Saída:\n",
        "    + $(x, y)$: tupla contendo dois vetores $x$ e $y$, de tamanho $m$ cada um\n",
        "\n",
        "A função deve fazer o seguinte:\n",
        "1. gerar dados de $x$ de forma que cada um dos $m$ elementos seja dado por $x^{(i)}\\sim\\mathcal{U}\\left(0,2\\pi\\right)$\n",
        "2. gerar dados de $y$ de forma que cada um dos $m$ elemento $y^{(i)}=\\sin(x^{(i)})+\\varepsilon^{(i)}$, em que $\\varepsilon\\sim\\mathcal{N}(0;\\sigma)$ representa o ruído nos dados de saída. Note que para cada $i$-ésima amostra, deve ser gerado um valor de ruído $\\varepsilon^{(i)}$ diferente.\n",
        "\n",
        "Use a função `geraDados` para gerar $5$ amostras com desvio padrão $\\sigma=0.1$. Plote um gráfico contendo: linha contínua representando a senóide sem ruído (mesmo gráfico da célula anterior) e círculos mostrando os pontos amostrados pela função `geraDados` ($y$). Cada vez que a célua é rodada, deve ser gerado um novo conjunto de amostras."
      ]
    },
    {
      "cell_type": "code",
      "execution_count": null,
      "metadata": {
        "id": "nKJaEIfoZKjP"
      },
      "outputs": [],
      "source": [
        "### SEU CÓDIGO COMEÇA AQUI ### (≈ 15 linhas de código)\n",
        "None\n",
        "### FIM DO CÓDIGO ###"
      ]
    },
    {
      "cell_type": "markdown",
      "metadata": {
        "id": "ttW1pNEWZKjP"
      },
      "source": [
        "**Saída esperada** Algo parecido com o gráfico abaixo, mas os cículos estarão em posições aleatórias a cada execução.\n",
        "\n",
        "![TP01_geraDados.png](attachment:TP01_geraDados.png)\n",
        "\n",
        "___"
      ]
    },
    {
      "cell_type": "markdown",
      "metadata": {
        "id": "75ia9UsOZKjQ"
      },
      "source": [
        "## TREINAMENTO de modelos polinomiais\n",
        "\n",
        "Agora você vai observar na prática a influência de diferentes fatores na estimação de uma função. O objetivo aqui é que você verifique o desempenho de diferentes modelos para diferentes\n",
        "- *quantidades* de dados de treinamento ($m$)\n",
        "- *qualidades* dos dados, diferentes níveis de ruídos ($\\sigma$) nos dados\n",
        "- *capacidades dos modelos*, que indica a complexidade do modelo que tenta se aproximar dos dados\n",
        "\n",
        "Para isso, use a função de gerar dados (`geraDados`) para criar um conjunto de dados de treinamento. Escolha uma quantidade de dados $m$ e um nível de ruído $\\sigma$ inicial. Depois você deve variar esses valores de modo a entender a influência no desempenho dos modelos.\n",
        "\n",
        "Note que no código pronto abaixo gera os dados de \"validação\", sem ruído, usando apenas o oráculo. O código pronto também constrói três modelos diferentes:\n",
        "1. `modelo_1`: modelo de baixa capacidade\n",
        "1. `modelo_2`: modelo de média capacidade\n",
        "1. `modelo_3`: modelo de alta capacidade\n",
        "\n",
        "Obs.: pode ser gerado algum warning no código abaixo dizendo `RankWarning: Polyfit may be poorly conditioned`. Neste caso, apenas prossiga e ignore esse alerta."
      ]
    },
    {
      "cell_type": "code",
      "execution_count": null,
      "metadata": {
        "id": "t7fE5gPNZKjQ"
      },
      "outputs": [],
      "source": [
        "### SEU CÓDIGO COMEÇA AQUI ### (≈ 3 linhas de código)\n",
        "\n",
        "# Parâmetros\n",
        "m = None\n",
        "sigma = None\n",
        "\n",
        "# Gera dados de TREINAMENTO\n",
        "x_trein = None\n",
        "y_trein = None\n",
        "\n",
        "### FIM DO CÓDIGO ###\n",
        "\n",
        "\n",
        "# Gera dados de VALIDAÇÃO\n",
        "x_valid = np.linspace(0, 2*np.pi, 100)\n",
        "y_valid = oraculo(x_valid)\n",
        "\n",
        "# Modelo de BAIXA capacidade\n",
        "modelo_1 = np.poly1d(np.polyfit(x_trein.reshape(-1,), y_trein.reshape(-1,), 1))\n",
        "y1 = modelo_1(x_valid)\n",
        "\n",
        "# Modelo de MÉDIA capacidade\n",
        "modelo_2 = np.poly1d(np.polyfit(x_trein.reshape(-1,), y_trein.reshape(-1,), 3))\n",
        "y2 = modelo_2(x_valid)\n",
        "\n",
        "# Modelo de ALTA capacidade\n",
        "modelo_3 = np.poly1d(np.polyfit(x_trein.reshape(-1,), y_trein.reshape(-1,), 7))\n",
        "y3 = modelo_3(x_valid)"
      ]
    },
    {
      "cell_type": "markdown",
      "metadata": {
        "id": "a7OKL15wZKjQ"
      },
      "source": [
        "## VALIDAÇÃO de modelos polinomiais\n",
        "\n",
        "Para avaliar o desempenho de cada modelo acima calcule o RMSE sobre os dados de validação. Para isso, use as saídas geradas pelos modelo (`y1`, `y2` e `y3`) e compare com a saída verdadeira (`y_valid`), gerando as métricas de desempenho `RMSE_1`, `RMSE_2` e `RMSE_3`. Observe também o desempenho dos modelos no gráfico gerado."
      ]
    },
    {
      "cell_type": "code",
      "execution_count": null,
      "metadata": {
        "id": "0xb34iVFZKjQ"
      },
      "outputs": [],
      "source": [
        "### SEU CÓDIGO COMEÇA AQUI ### (≈ 3 linhas de código)\n",
        "\n",
        "RMSE_1 = None\n",
        "RMSE_2 = None\n",
        "RMSE_3 = None\n",
        "\n",
        "### FIM DO CÓDIGO ###\n",
        "\n",
        "\n",
        "plt.figure(figsize=(10,5))\n",
        "plt.plot(x_valid, y_valid, '--')\n",
        "plt.plot(x_trein, y_trein, '.', ms=15)\n",
        "plt.plot(x_valid, y1, '-')\n",
        "plt.plot(x_valid, y2, '-')\n",
        "plt.plot(x_valid, y3, '-')\n",
        "plt.xlabel(r\"$x$\")\n",
        "plt.ylabel(r\"$y$\")\n",
        "plt.title(\"Dados gerados\")\n",
        "plt.legend((\"validação\", \"treinamento\", \"m1 (RMSE=%.1f)\"%RMSE_1, \"m2 (RMSE=%.1f)\"%RMSE_2, \"m3 (RMSE=%.1f)\"%RMSE_3))\n",
        "plt.axis([0,2*np.pi,-1.2,1.2])\n",
        "plt.show()"
      ]
    },
    {
      "cell_type": "markdown",
      "metadata": {
        "id": "_8Sc1ByrZKjQ"
      },
      "source": [
        "## AVALIE SEU APRENDIZADO\n",
        "\n",
        "Após o desenvolvimento desta atividade, espera-se que você seja capaz de\n",
        "- escrever programas em Python usando o Jupyter Notebook / Google Colab\n",
        "- gerar gráficos básicos em Python, usando Matplotlib\n",
        "- manipular variáveis e vetores em Python\n",
        "- escrever funções em Python e usá-las conforme programado"
      ]
    },
    {
      "cell_type": "markdown",
      "metadata": {
        "id": "PNARsUKlZKjQ"
      },
      "source": [
        "Fim (ufa!)"
      ]
    }
  ],
  "metadata": {
    "kernelspec": {
      "display_name": "Python 3",
      "language": "python",
      "name": "python3"
    },
    "language_info": {
      "codemirror_mode": {
        "name": "ipython",
        "version": 3
      },
      "file_extension": ".py",
      "mimetype": "text/x-python",
      "name": "python",
      "nbconvert_exporter": "python",
      "pygments_lexer": "ipython3",
      "version": "3.6.11"
    },
    "toc": {
      "base_numbering": 1,
      "nav_menu": {
        "height": "228px",
        "width": "370px"
      },
      "number_sections": true,
      "sideBar": true,
      "skip_h1_title": false,
      "title_cell": "Table of Contents",
      "title_sidebar": "Contents",
      "toc_cell": false,
      "toc_position": {},
      "toc_section_display": true,
      "toc_window_display": false
    },
    "varInspector": {
      "cols": {
        "lenName": 16,
        "lenType": 16,
        "lenVar": 40
      },
      "kernels_config": {
        "python": {
          "delete_cmd_postfix": "",
          "delete_cmd_prefix": "del ",
          "library": "var_list.py",
          "varRefreshCmd": "print(var_dic_list())"
        },
        "r": {
          "delete_cmd_postfix": ") ",
          "delete_cmd_prefix": "rm(",
          "library": "var_list.r",
          "varRefreshCmd": "cat(var_dic_list()) "
        }
      },
      "types_to_exclude": [
        "module",
        "function",
        "builtin_function_or_method",
        "instance",
        "_Feature"
      ],
      "window_display": false
    },
    "colab": {
      "provenance": []
    }
  },
  "nbformat": 4,
  "nbformat_minor": 0
}